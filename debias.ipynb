{
 "cells": [
  {
   "cell_type": "markdown",
   "metadata": {},
   "source": [
    "# Data Exploration\n",
    "\n",
    "Setting up some basic packages for exploration."
   ]
  },
  {
   "cell_type": "code",
   "execution_count": 2,
   "metadata": {},
   "outputs": [],
   "source": [
    "import numpy as np\n",
    "import pandas as pd\n",
    "import matplotlib.pyplot as plt\n",
    "from matplotlib.pyplot import figure"
   ]
  },
  {
   "cell_type": "markdown",
   "metadata": {},
   "source": [
    "Reading in training and testing data. Mapping salary to binary value (this is what we want to predict)."
   ]
  },
  {
   "cell_type": "code",
   "execution_count": 12,
   "metadata": {},
   "outputs": [
    {
     "data": {
      "text/html": [
       "<div>\n",
       "<style scoped>\n",
       "    .dataframe tbody tr th:only-of-type {\n",
       "        vertical-align: middle;\n",
       "    }\n",
       "\n",
       "    .dataframe tbody tr th {\n",
       "        vertical-align: top;\n",
       "    }\n",
       "\n",
       "    .dataframe thead th {\n",
       "        text-align: right;\n",
       "    }\n",
       "</style>\n",
       "<table border=\"1\" class=\"dataframe\">\n",
       "  <thead>\n",
       "    <tr style=\"text-align: right;\">\n",
       "      <th></th>\n",
       "      <th>age</th>\n",
       "      <th>workclass</th>\n",
       "      <th>education</th>\n",
       "      <th>education.num</th>\n",
       "      <th>marital.status</th>\n",
       "      <th>occupation</th>\n",
       "      <th>relationship</th>\n",
       "      <th>sex</th>\n",
       "      <th>capital.gain</th>\n",
       "      <th>capital.loss</th>\n",
       "      <th>hours.per.week</th>\n",
       "    </tr>\n",
       "  </thead>\n",
       "  <tbody>\n",
       "    <tr>\n",
       "      <th>14160</th>\n",
       "      <td>29</td>\n",
       "      <td>Private</td>\n",
       "      <td>Some-college</td>\n",
       "      <td>10</td>\n",
       "      <td>Married-civ-spouse</td>\n",
       "      <td>Handlers-cleaners</td>\n",
       "      <td>Husband</td>\n",
       "      <td>Male</td>\n",
       "      <td>0</td>\n",
       "      <td>0</td>\n",
       "      <td>40</td>\n",
       "    </tr>\n",
       "    <tr>\n",
       "      <th>27048</th>\n",
       "      <td>19</td>\n",
       "      <td>Private</td>\n",
       "      <td>Some-college</td>\n",
       "      <td>10</td>\n",
       "      <td>Never-married</td>\n",
       "      <td>Sales</td>\n",
       "      <td>Own-child</td>\n",
       "      <td>Male</td>\n",
       "      <td>0</td>\n",
       "      <td>0</td>\n",
       "      <td>15</td>\n",
       "    </tr>\n",
       "    <tr>\n",
       "      <th>28868</th>\n",
       "      <td>28</td>\n",
       "      <td>Private</td>\n",
       "      <td>Some-college</td>\n",
       "      <td>10</td>\n",
       "      <td>Married-civ-spouse</td>\n",
       "      <td>Tech-support</td>\n",
       "      <td>Wife</td>\n",
       "      <td>Female</td>\n",
       "      <td>0</td>\n",
       "      <td>0</td>\n",
       "      <td>40</td>\n",
       "    </tr>\n",
       "    <tr>\n",
       "      <th>5667</th>\n",
       "      <td>35</td>\n",
       "      <td>Private</td>\n",
       "      <td>11th</td>\n",
       "      <td>7</td>\n",
       "      <td>Never-married</td>\n",
       "      <td>Sales</td>\n",
       "      <td>Not-in-family</td>\n",
       "      <td>Male</td>\n",
       "      <td>0</td>\n",
       "      <td>0</td>\n",
       "      <td>45</td>\n",
       "    </tr>\n",
       "    <tr>\n",
       "      <th>7827</th>\n",
       "      <td>20</td>\n",
       "      <td>Private</td>\n",
       "      <td>Some-college</td>\n",
       "      <td>10</td>\n",
       "      <td>Never-married</td>\n",
       "      <td>Adm-clerical</td>\n",
       "      <td>Own-child</td>\n",
       "      <td>Female</td>\n",
       "      <td>0</td>\n",
       "      <td>0</td>\n",
       "      <td>30</td>\n",
       "    </tr>\n",
       "    <tr>\n",
       "      <th>...</th>\n",
       "      <td>...</td>\n",
       "      <td>...</td>\n",
       "      <td>...</td>\n",
       "      <td>...</td>\n",
       "      <td>...</td>\n",
       "      <td>...</td>\n",
       "      <td>...</td>\n",
       "      <td>...</td>\n",
       "      <td>...</td>\n",
       "      <td>...</td>\n",
       "      <td>...</td>\n",
       "    </tr>\n",
       "    <tr>\n",
       "      <th>1338</th>\n",
       "      <td>27</td>\n",
       "      <td>Self-emp-not-inc</td>\n",
       "      <td>HS-grad</td>\n",
       "      <td>9</td>\n",
       "      <td>Married-civ-spouse</td>\n",
       "      <td>Farming-fishing</td>\n",
       "      <td>Husband</td>\n",
       "      <td>Male</td>\n",
       "      <td>0</td>\n",
       "      <td>1573</td>\n",
       "      <td>70</td>\n",
       "    </tr>\n",
       "    <tr>\n",
       "      <th>24534</th>\n",
       "      <td>63</td>\n",
       "      <td>Private</td>\n",
       "      <td>HS-grad</td>\n",
       "      <td>9</td>\n",
       "      <td>Never-married</td>\n",
       "      <td>Exec-managerial</td>\n",
       "      <td>Not-in-family</td>\n",
       "      <td>Male</td>\n",
       "      <td>0</td>\n",
       "      <td>0</td>\n",
       "      <td>40</td>\n",
       "    </tr>\n",
       "    <tr>\n",
       "      <th>18080</th>\n",
       "      <td>56</td>\n",
       "      <td>Private</td>\n",
       "      <td>Masters</td>\n",
       "      <td>14</td>\n",
       "      <td>Married-civ-spouse</td>\n",
       "      <td>Prof-specialty</td>\n",
       "      <td>Husband</td>\n",
       "      <td>Male</td>\n",
       "      <td>0</td>\n",
       "      <td>0</td>\n",
       "      <td>40</td>\n",
       "    </tr>\n",
       "    <tr>\n",
       "      <th>10354</th>\n",
       "      <td>22</td>\n",
       "      <td>?</td>\n",
       "      <td>Assoc-voc</td>\n",
       "      <td>11</td>\n",
       "      <td>Never-married</td>\n",
       "      <td>?</td>\n",
       "      <td>Own-child</td>\n",
       "      <td>Male</td>\n",
       "      <td>0</td>\n",
       "      <td>0</td>\n",
       "      <td>20</td>\n",
       "    </tr>\n",
       "    <tr>\n",
       "      <th>24639</th>\n",
       "      <td>45</td>\n",
       "      <td>Self-emp-not-inc</td>\n",
       "      <td>7th-8th</td>\n",
       "      <td>4</td>\n",
       "      <td>Married-civ-spouse</td>\n",
       "      <td>Exec-managerial</td>\n",
       "      <td>Husband</td>\n",
       "      <td>Male</td>\n",
       "      <td>0</td>\n",
       "      <td>0</td>\n",
       "      <td>65</td>\n",
       "    </tr>\n",
       "  </tbody>\n",
       "</table>\n",
       "<p>6513 rows × 11 columns</p>\n",
       "</div>"
      ],
      "text/plain": [
       "       age         workclass     education  education.num      marital.status  \\\n",
       "14160   29           Private  Some-college             10  Married-civ-spouse   \n",
       "27048   19           Private  Some-college             10       Never-married   \n",
       "28868   28           Private  Some-college             10  Married-civ-spouse   \n",
       "5667    35           Private          11th              7       Never-married   \n",
       "7827    20           Private  Some-college             10       Never-married   \n",
       "...    ...               ...           ...            ...                 ...   \n",
       "1338    27  Self-emp-not-inc       HS-grad              9  Married-civ-spouse   \n",
       "24534   63           Private       HS-grad              9       Never-married   \n",
       "18080   56           Private       Masters             14  Married-civ-spouse   \n",
       "10354   22                 ?     Assoc-voc             11       Never-married   \n",
       "24639   45  Self-emp-not-inc       7th-8th              4  Married-civ-spouse   \n",
       "\n",
       "              occupation   relationship     sex  capital.gain  capital.loss  \\\n",
       "14160  Handlers-cleaners        Husband    Male             0             0   \n",
       "27048              Sales      Own-child    Male             0             0   \n",
       "28868       Tech-support           Wife  Female             0             0   \n",
       "5667               Sales  Not-in-family    Male             0             0   \n",
       "7827        Adm-clerical      Own-child  Female             0             0   \n",
       "...                  ...            ...     ...           ...           ...   \n",
       "1338     Farming-fishing        Husband    Male             0          1573   \n",
       "24534    Exec-managerial  Not-in-family    Male             0             0   \n",
       "18080     Prof-specialty        Husband    Male             0             0   \n",
       "10354                  ?      Own-child    Male             0             0   \n",
       "24639    Exec-managerial        Husband    Male             0             0   \n",
       "\n",
       "       hours.per.week  \n",
       "14160              40  \n",
       "27048              15  \n",
       "28868              40  \n",
       "5667               45  \n",
       "7827               30  \n",
       "...               ...  \n",
       "1338               70  \n",
       "24534              40  \n",
       "18080              40  \n",
       "10354              20  \n",
       "24639              65  \n",
       "\n",
       "[6513 rows x 11 columns]"
      ]
     },
     "execution_count": 12,
     "metadata": {},
     "output_type": "execute_result"
    }
   ],
   "source": [
    "from sklearn.model_selection import train_test_split\n",
    "pd.options.mode.chained_assignment = None  # default='warn'\n",
    "df = pd.read_csv(\"adult-data.csv\")\n",
    "train, test = train_test_split(df, test_size = 0.2, random_state = 42, shuffle = True)\n",
    "train['income'] = train['income'].map({\"<=50K\":0, \">50K\":1})\n",
    "test['income'] = test['income'].map({\"<=50K.\":0, \">50K.\":1})\n",
    "# To binary mapping\n",
    "train['race'] = train['race'].map({\"Black\": 0, \"Other\": 1, \"Amer-Indian-Eskimo\": 1, \"Asian-Pac-Islander\": 1, \"White\":1})\n",
    "test['race'] = test['race'].map({\"Black\": 0, \"Other\": 1, \"Amer-Indian-Eskimo\": 1, \"Asian-Pac-Islander\": 1, \"White\":1})\n",
    "\n",
    "Y = train['income']\n",
    "Y_race = train['race']\n",
    "X = train.drop(['income', 'fnlwgt', 'native.country', 'race'], axis = 1)\n",
    "Y_test = test['income']\n",
    "Y_test_race = test['race']\n",
    "X_test = test.drop(['income', 'fnlwgt', 'native.country', 'race'], axis = 1)\n",
    "X_test"
   ]
  },
  {
   "cell_type": "markdown",
   "metadata": {},
   "source": [
    "Naive oversampling of our training data. This one of the mechanisms we will test to see its effect on bias. We simply oversample the minority class (black in this case) so that our classes are more balanced. We are going to resample based on some coefficient RESAMPLE_COEFFICIENT. If this is 1, we simple resample the total amount in the minority class. "
   ]
  },
  {
   "cell_type": "code",
   "execution_count": 3,
   "metadata": {},
   "outputs": [
    {
     "name": "stdout",
     "output_type": "stream",
     "text": [
      "3124 32561\n"
     ]
    }
   ],
   "source": [
    "from keras.utils import to_categorical, plot_model\n",
    "\n",
    "minority = train[train['race']== 0]\n",
    "print(len(minority), len(train))\n",
    "RESAMPLE_COEFFICIENT = 1.5\n",
    "oversample = minority.sample(int(RESAMPLE_COEFFICIENT * len(minority)), replace = True, random_state = 1)\n",
    "train_o = pd.concat([train, oversample], axis = 0)\n",
    "##Perform similar X, Y split on train_o, the oversampled training data\n",
    "Y_o_race = train_o['race']\n",
    "Y_o = train_o['ann_salary']\n",
    "X_o = train_o.drop(['ann_salary', 'fnlwgt', 'country', 'race'], axis = 1)"
   ]
  },
  {
   "cell_type": "markdown",
   "metadata": {},
   "source": [
    "Some basic analysis of race groups above and below 50 K (\"rich\" and \"poor\")"
   ]
  },
  {
   "cell_type": "code",
   "execution_count": 4,
   "metadata": {},
   "outputs": [],
   "source": [
    "total = train.groupby('race').size().reset_index()\n",
    "\n",
    "rich = train[train['ann_salary'] == 1]\n",
    "rich = rich.groupby('race').size().reset_index()\n",
    "rich[0] = rich[0]/total[0]\n",
    "\n",
    "poor = train[train['ann_salary'] == 0]\n",
    "poor = poor.groupby('race').size().reset_index()\n",
    "poor[0] = poor[0]/total[0]"
   ]
  },
  {
   "cell_type": "code",
   "execution_count": 5,
   "metadata": {},
   "outputs": [
    {
     "data": {
      "image/png": "[encoded data removed]",
      "text/plain": [
       "<Figure size 720x216 with 2 Axes>"
      ]
     },
     "metadata": {
      "needs_background": "light"
     },
     "output_type": "display_data"
    }
   ],
   "source": [
    "fig, (ax1, ax2) = plt.subplots(1,2)\n",
    "fig.set_size_inches(10,3)\n",
    "ax1.bar(rich['race'], rich[0])\n",
    "ax2.bar(poor['race'], poor[0])\n",
    "plt.show()"
   ]
  },
  {
   "cell_type": "markdown",
   "metadata": {},
   "source": [
    "We want to see what is the value of p in our training data, because it is likely that such a pattern will reveal itself in the model. In other words, what is the maximum bias that is shown in the data? This is assuming there are no confounding variables between race groups. "
   ]
  },
  {
   "cell_type": "code",
   "execution_count": 6,
   "metadata": {},
   "outputs": [],
   "source": [
    "#Proportion of black people who are rich. Dividing the \"length\" of the DFs of only >50k and the entire data, subsetting for black race\n",
    "blackrich = len(rich[rich['race'] == 0])/len(train[train['race'] == 0])\n",
    "#Same idea for other races\n",
    "nonblackrich = len(rich[rich['race'] == 1])/len(train[train['race'] == 1])"
   ]
  },
  {
   "cell_type": "markdown",
   "metadata": {},
   "source": [
    "More processing things, one-hot encoding categorical variables, making sure that the test and train have the same encodings, by using df.align on column case. Then, converting everything into numpy arrays. "
   ]
  },
  {
   "cell_type": "code",
   "execution_count": 7,
   "metadata": {},
   "outputs": [
    {
     "data": {
      "text/plain": [
       "(37247, 68)"
      ]
     },
     "execution_count": 7,
     "metadata": {},
     "output_type": "execute_result"
    }
   ],
   "source": [
    "\n",
    "from keras import Sequential\n",
    "from sklearn.preprocessing import OneHotEncoder\n",
    "\n",
    "dumdf = pd.get_dummies(X, columns = [\"workclass\", \"education\", \"education_num\", \"marital_status\", \"occupation\", \"relationship\", \"sex\"], drop_first = True)\n",
    "testdf = pd.get_dummies(X_test, columns = [\"workclass\", \"education\", \"education_num\", \"marital_status\", \"occupation\", \"relationship\", \"sex\"], drop_first = True)\n",
    "dumdf_o = pd.get_dummies(X_o, columns = [\"workclass\", \"education\", \"education_num\", \"marital_status\", \"occupation\", \"relationship\", \"sex\"], drop_first =True)\n",
    "dumdf,testdf = dumdf.align(testdf, join='outer', axis=1, fill_value=0)\n",
    "dumdf_o.shape"
   ]
  },
  {
   "cell_type": "code",
   "execution_count": 8,
   "metadata": {},
   "outputs": [],
   "source": [
    "nfeatures = dumdf.shape[1]\n",
    "\n",
    "#Regular Dataframes\n",
    "dumdf = np.asarray(dumdf)\n",
    "Y = np.asarray(Y)\n",
    "Y_race = np.asarray(Y_race)\n",
    "\n",
    "#Oversampled Dataframes\n",
    "dumdf_o = np.asarray(dumdf_o)\n",
    "Y_o = np.asarray(Y_o)\n",
    "Y_o_race = np.asarray(Y_o_race)\n",
    "\n",
    "#Testing Dataframes\n",
    "testdf = np.array(testdf)\n",
    "Y_test = np.array(Y_test)\n",
    "Y_test_race = np.array(Y_test_race)"
   ]
  },
  {
   "cell_type": "markdown",
   "metadata": {},
   "source": [
    "## Modeling"
   ]
  },
  {
   "cell_type": "markdown",
   "metadata": {},
   "source": [
    "### Combined Loss Function"
   ]
  },
  {
   "cell_type": "markdown",
   "metadata": {},
   "source": [
    "Begin ML pipeline. Setting up a basic neural network structure (which can be tinkered with later). \n",
    "\n",
    "The idea is we are trying to predict M3 (average income), but at the same time we want to discriminate against predicting C2 (race). \n",
    "\n",
    "So the rough structure looks like: M1 -> M2 -> M3 (income) -> C2 -> C3 (race)\n"
   ]
  },
  {
   "cell_type": "code",
   "execution_count": 9,
   "metadata": {},
   "outputs": [],
   "source": [
    "import tensorflow as tf\n",
    "from tensorflow import keras\n",
    "from tensorflow.keras import layers\n",
    "from tensorflow.keras import models\n",
    "from tensorflow.keras.layers import Dense, Dropout\n",
    "from tensorflow.keras import Input, Model\n",
    "M1 = Input(shape=(nfeatures,),name='M1')\n",
    "M2 = Dense(400, activation='relu',name='M2')(M1)\n",
    "M3 = Dense(1, activation='sigmoid',name='M3')(M2)\n",
    "C2 = Dense(40, activation='relu',name='C2')(M3)\n",
    "C3 = Dense(1, activation='sigmoid',name='C3')(C2)"
   ]
  },
  {
   "cell_type": "markdown",
   "metadata": {},
   "source": [
    "First model with adjusted loss function. Define some value $alpha$ that represents the \"discriminator\" network, that punishes the loss function when the loss for C3 is smaller. $alpha$ is an important hyperparamater to choose, though, since a large $alpha$ may drive the network away from any good convergence, while a small $alpha$ does little to nothing (obviously)."
   ]
  },
  {
   "cell_type": "code",
   "execution_count": 10,
   "metadata": {},
   "outputs": [
    {
     "name": "stdout",
     "output_type": "stream",
     "text": [
      "Epoch 1/5\n",
      "814/814 [==============================] - 2s 2ms/step - loss: 2.2109 - M3_loss: 2.2876 - C3_loss: 0.7671 - M3_accuracy: 0.8149 - C3_accuracy: 0.0951 - val_loss: 0.3625 - val_M3_loss: 0.4518 - val_C3_loss: 0.8933 - val_M3_accuracy: 0.8478 - val_C3_accuracy: 0.0993\n",
      "Epoch 2/5\n",
      "814/814 [==============================] - 2s 2ms/step - loss: 1.1542 - M3_loss: 1.2443 - C3_loss: 0.9015 - M3_accuracy: 0.8268 - C3_accuracy: 0.0951 - val_loss: 1.3040 - val_M3_loss: 1.3939 - val_C3_loss: 0.8989 - val_M3_accuracy: 0.8181 - val_C3_accuracy: 0.0993\n",
      "Epoch 3/5\n",
      "814/814 [==============================] - 2s 2ms/step - loss: 1.3472 - M3_loss: 1.4376 - C3_loss: 0.9041 - M3_accuracy: 0.8285 - C3_accuracy: 0.0951 - val_loss: 0.8774 - val_M3_loss: 0.9674 - val_C3_loss: 0.9002 - val_M3_accuracy: 0.8308 - val_C3_accuracy: 0.0993\n",
      "Epoch 4/5\n",
      "814/814 [==============================] - 1s 2ms/step - loss: 1.7845 - M3_loss: 1.8750 - C3_loss: 0.9046 - M3_accuracy: 0.8305 - C3_accuracy: 0.0951 - val_loss: 1.7594 - val_M3_loss: 1.8495 - val_C3_loss: 0.9004 - val_M3_accuracy: 0.8148 - val_C3_accuracy: 0.0993\n",
      "Epoch 5/5\n",
      "814/814 [==============================] - 1s 2ms/step - loss: 1.4012 - M3_loss: 1.4917 - C3_loss: 0.9048 - M3_accuracy: 0.8341 - C3_accuracy: 0.0951 - val_loss: 1.0223 - val_M3_loss: 1.1124 - val_C3_loss: 0.9005 - val_M3_accuracy: 0.8300 - val_C3_accuracy: 0.0993\n"
     ]
    }
   ],
   "source": [
    "merged = Model(inputs = [M1], outputs = [M3, C3])\n",
    "loss1 = 'binary_crossentropy'\n",
    "loss2 = 'mse'\n",
    "opt = keras.optimizers.Adam(learning_rate=0.001)\n",
    "alpha = 0.1\n",
    "merged.compile(optimizer = opt,loss=[loss1, loss2],loss_weights=[1, -1 * alpha], metrics=['accuracy'])\n",
    "history = merged.fit(dumdf, [Y,Y_race] ,batch_size=32, epochs=5, validation_split = 0.2, shuffle = True)"
   ]
  },
  {
   "cell_type": "markdown",
   "metadata": {},
   "source": [
    "### Standard Model\n",
    "Just a typical neural network, without any of the debiasing features. This will serve as a benchmark for some of the metrics later."
   ]
  },
  {
   "cell_type": "code",
   "execution_count": 13,
   "metadata": {},
   "outputs": [
    {
     "name": "stdout",
     "output_type": "stream",
     "text": [
      "Epoch 1/5\n",
      "814/814 [==============================] - 2s 2ms/step - loss: 4.3628 - accuracy: 0.8126 - val_loss: 1.2376 - val_accuracy: 0.8291\n",
      "Epoch 2/5\n",
      "814/814 [==============================] - 1s 2ms/step - loss: 1.9147 - accuracy: 0.8289 - val_loss: 0.5938 - val_accuracy: 0.8267\n",
      "Epoch 3/5\n",
      "814/814 [==============================] - 1s 2ms/step - loss: 1.2276 - accuracy: 0.8340 - val_loss: 0.5823 - val_accuracy: 0.8359\n",
      "Epoch 4/5\n",
      "814/814 [==============================] - 1s 2ms/step - loss: 0.7865 - accuracy: 0.8421 - val_loss: 0.4445 - val_accuracy: 0.8509\n",
      "Epoch 5/5\n",
      "814/814 [==============================] - 1s 2ms/step - loss: 0.9236 - accuracy: 0.8375 - val_loss: 0.4537 - val_accuracy: 0.8488\n"
     ]
    }
   ],
   "source": [
    "\n",
    "M1 = Input(shape=(nfeatures,),name='M1')\n",
    "M2 = Dense(400, activation='relu',name='M2')(M1)\n",
    "M3 = Dense(1, activation='sigmoid',name='M3')(M2)\n",
    "\n",
    "\n",
    "model = Model(inputs = [M1], outputs = [M3])\n",
    "model.compile(optimizer = opt, loss = \"binary_crossentropy\", metrics = ['accuracy'])\n",
    "history = model.fit(dumdf,Y, batch_size = 32, epochs = 5, validation_split = 0.2, shuffle = True)\n"
   ]
  },
  {
   "cell_type": "markdown",
   "metadata": {},
   "source": [
    "### Oversampled Model\n",
    "Model with the oversampled training set, same neural network structure as the normal model though."
   ]
  },
  {
   "cell_type": "code",
   "execution_count": 14,
   "metadata": {},
   "outputs": [
    {
     "name": "stdout",
     "output_type": "stream",
     "text": [
      "Epoch 1/5\n",
      "932/932 [==============================] - 2s 2ms/step - loss: 3.5301 - accuracy: 0.8134 - val_loss: 0.8695 - val_accuracy: 0.8142\n",
      "Epoch 2/5\n",
      "932/932 [==============================] - 2s 2ms/step - loss: 1.2402 - accuracy: 0.8321 - val_loss: 0.4636 - val_accuracy: 0.8737\n",
      "Epoch 3/5\n",
      "932/932 [==============================] - 2s 2ms/step - loss: 1.0984 - accuracy: 0.8379 - val_loss: 0.4508 - val_accuracy: 0.8791\n",
      "Epoch 4/5\n",
      "932/932 [==============================] - 2s 2ms/step - loss: 0.9706 - accuracy: 0.8388 - val_loss: 0.5021 - val_accuracy: 0.8758\n",
      "Epoch 5/5\n",
      "932/932 [==============================] - 2s 2ms/step - loss: 0.9577 - accuracy: 0.8399 - val_loss: 0.3749 - val_accuracy: 0.8886\n"
     ]
    }
   ],
   "source": [
    "M1 = Input(shape=(nfeatures,),name='M1')\n",
    "M2 = Dense(400, activation='relu',name='M2')(M1)\n",
    "M3 = Dense(1, activation='sigmoid',name='M3')(M2)\n",
    "\n",
    "\n",
    "Omodel = Model(inputs = [M1], outputs = [M3])\n",
    "Omodel.compile(optimizer = opt, loss = \"binary_crossentropy\", metrics = ['accuracy'])\n",
    "history = Omodel.fit(dumdf_o,Y_o, batch_size = 32, epochs = 5, validation_split = 0.2, shuffle = True)"
   ]
  },
  {
   "cell_type": "markdown",
   "metadata": {},
   "source": [
    "### Oversampling + Combined Loss Function\n",
    "\n",
    "This one is supposed to combine our previous two insights. We expect this model to perform the \"best\" based on our ideas of debiasing. But anything is possible."
   ]
  },
  {
   "cell_type": "code",
   "execution_count": 20,
   "metadata": {},
   "outputs": [
    {
     "name": "stdout",
     "output_type": "stream",
     "text": [
      "Epoch 1/5\n",
      "932/932 [==============================] - 2s 2ms/step - loss: 2.8908 - M3_loss: 2.9679 - C3_loss: 0.7709 - M3_accuracy: 0.8141 - C3_accuracy: 0.0959 - val_loss: 0.9468 - val_M3_loss: 0.9801 - val_C3_loss: 0.3326 - val_M3_accuracy: 0.8748 - val_C3_accuracy: 0.6648\n",
      "Epoch 2/5\n",
      "932/932 [==============================] - 2s 2ms/step - loss: 1.6992 - M3_loss: 1.7893 - C3_loss: 0.9007 - M3_accuracy: 0.8262 - C3_accuracy: 0.0959 - val_loss: 0.4859 - val_M3_loss: 0.5193 - val_C3_loss: 0.3346 - val_M3_accuracy: 0.8815 - val_C3_accuracy: 0.6648\n",
      "Epoch 3/5\n",
      "932/932 [==============================] - 2s 2ms/step - loss: 1.1107 - M3_loss: 1.2010 - C3_loss: 0.9032 - M3_accuracy: 0.8308 - C3_accuracy: 0.0959 - val_loss: 0.5913 - val_M3_loss: 0.6248 - val_C3_loss: 0.3349 - val_M3_accuracy: 0.8713 - val_C3_accuracy: 0.6648\n",
      "Epoch 4/5\n",
      "932/932 [==============================] - 2s 2ms/step - loss: 2.3927 - M3_loss: 2.4830 - C3_loss: 0.9037 - M3_accuracy: 0.8308 - C3_accuracy: 0.0959 - val_loss: 0.4982 - val_M3_loss: 0.5317 - val_C3_loss: 0.3351 - val_M3_accuracy: 0.8860 - val_C3_accuracy: 0.6648\n",
      "Epoch 5/5\n",
      "932/932 [==============================] - 2s 2ms/step - loss: 0.8411 - M3_loss: 0.9315 - C3_loss: 0.9039 - M3_accuracy: 0.8390 - C3_accuracy: 0.0959 - val_loss: 1.6397 - val_M3_loss: 1.6732 - val_C3_loss: 0.3351 - val_M3_accuracy: 0.8783 - val_C3_accuracy: 0.6648\n"
     ]
    }
   ],
   "source": [
    "M1 = Input(shape=(nfeatures,),name='M1')\n",
    "M2 = Dense(400, activation='relu',name='M2')(M1)\n",
    "M3 = Dense(1, activation='sigmoid',name='M3')(M2)\n",
    "C2 = Dense(40, activation='relu',name='C2')(M3)\n",
    "C3 = Dense(1, activation='sigmoid',name='C3')(C2)\n",
    "\n",
    "Omerged = Model(inputs = [M1], outputs = [M3, C3])\n",
    "loss1 = 'binary_crossentropy'\n",
    "loss2 = 'mse'\n",
    "opt = keras.optimizers.Adam(learning_rate=0.001)\n",
    "alpha = 0.1\n",
    "Omerged.compile(optimizer = opt,loss=[loss1, loss2],loss_weights=[1, -1 * alpha], metrics=['accuracy'])\n",
    "history = Omerged.fit(dumdf_o, [Y_o,Y_o_race] ,batch_size=32, epochs=5, validation_split = 0.2, shuffle = True)"
   ]
  },
  {
   "cell_type": "code",
   "execution_count": 22,
   "metadata": {},
   "outputs": [],
   "source": [
    "## Testing the models on test set\n",
    "scores_merged = merged.evaluate(testdf, [Y_test, Y_test_race], batch_size=16, verbose = 0)\n",
    "scores = model.evaluate(testdf, Y_test, batch_size = 16, verbose = 0)\n",
    "scores_o = Omodel.evaluate(testdf, Y_test, batch_size = 16, verbose = 0)\n",
    "scores_merged_o = Omerged.evaluate(testdf, [Y_test, Y_test_race], batch_size=16, verbose = 0)"
   ]
  },
  {
   "cell_type": "code",
   "execution_count": 25,
   "metadata": {},
   "outputs": [
    {
     "name": "stdout",
     "output_type": "stream",
     "text": [
      "Combined Loss Function Model: \n",
      "Loss: 1.2430120706558228\n",
      "Accuracy: 0.8312757015228271\n",
      "Simple Model: \n",
      "Loss: 0.495622456073761\n",
      "Accuracy: 0.8431914448738098\n",
      "Oversampled Model: \n",
      "Loss: 0.4970332980155945\n",
      "Accuracy: 0.8477980494499207\n",
      "Oversampling + Combined Loss Function Model: \n",
      "Loss: 1.9590778350830078\n",
      "Accuracy: 0.8306615352630615\n"
     ]
    }
   ],
   "source": [
    "print(\"Combined Loss Function Model: \\nLoss: \" + str(scores_merged[0]) + \"\\nAccuracy: \" + str(scores_merged[3]))\n",
    "\n",
    "print(\"Simple Model: \\nLoss: \" + str(scores[0]) + \"\\nAccuracy: \" + str(scores[1]))\n",
    "\n",
    "print(\"Oversampled Model: \\nLoss: \" + str(scores_o[0]) + \"\\nAccuracy: \" + str(scores_o[1]))\n",
    "\n",
    "print(\"Oversampling + Combined Loss Function Model: \\nLoss: \" + str(scores_merged_o[0]) + \"\\nAccuracy: \" + str(scores_merged_o[3]))"
   ]
  },
  {
   "cell_type": "code",
   "execution_count": 24,
   "metadata": {},
   "outputs": [
    {
     "data": {
      "text/plain": [
       "['loss', 'M3_loss', 'C3_loss', 'M3_accuracy', 'C3_accuracy']"
      ]
     },
     "execution_count": 24,
     "metadata": {},
     "output_type": "execute_result"
    }
   ],
   "source": [
    "merged.metrics_names"
   ]
  },
  {
   "cell_type": "code",
   "execution_count": null,
   "metadata": {},
   "outputs": [],
   "source": []
  }
 ],
 "metadata": {
  "kernelspec": {
   "display_name": "Python 3",
   "language": "python",
   "name": "python3"
  },
  "language_info": {
   "codemirror_mode": {
    "name": "ipython",
    "version": 3
   },
   "file_extension": ".py",
   "mimetype": "text/x-python",
   "name": "python",
   "nbconvert_exporter": "python",
   "pygments_lexer": "ipython3",
   "version": "3.8.3"
  }
 },
 "nbformat": 4,
 "nbformat_minor": 4
}
