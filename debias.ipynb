{
 "cells": [
  {
   "cell_type": "markdown",
   "metadata": {},
   "source": [
    "# Data Exploration\n",
    "\n",
    "Setting up some basic packages for exploration."
   ]
  },
  {
   "cell_type": "code",
   "execution_count": 71,
   "metadata": {},
   "outputs": [],
   "source": [
    "import numpy as np\n",
    "import pandas as pd\n",
    "import matplotlib.pyplot as plt\n",
    "from matplotlib.pyplot import figure"
   ]
  },
  {
   "cell_type": "markdown",
   "metadata": {},
   "source": [
    "Reading in training and testing data. Mapping salary to binary value (this is what we want to predict)."
   ]
  },
  {
   "cell_type": "code",
   "execution_count": 72,
   "metadata": {},
   "outputs": [],
   "source": [
    "from sklearn.model_selection import train_test_split\n",
    "pd.options.mode.chained_assignment = None  # default='warn'\n",
    "df = pd.read_csv(\"adult-data.csv\")\n",
    "train, test = train_test_split(df, test_size = 0.2, random_state = 42, shuffle = True)\n",
    "train['income'] = train['income'].map({\"<=50K\":0, \">50K\":1})\n",
    "test['income'] = test['income'].map({\"<=50K\":0, \">50K\":1})\n",
    "# To binary mapping\n",
    "train['race'] = train['race'].map({\"Black\": 0, \"Other\": 1, \"Amer-Indian-Eskimo\": 1, \"Asian-Pac-Islander\": 1, \"White\":1})\n",
    "test['race'] = test['race'].map({\"Black\": 0, \"Other\": 1, \"Amer-Indian-Eskimo\": 1, \"Asian-Pac-Islander\": 1, \"White\":1})\n",
    "\n",
    "Y = train['income']\n",
    "Y_race = train['race']\n",
    "X = train.drop(['income', 'fnlwgt', 'native.country', 'race'], axis = 1)\n",
    "Y_test = test['income']\n",
    "Y_test_race = test['race']\n",
    "X_test = test.drop(['income', 'fnlwgt', 'native.country', 'race'], axis = 1)\n"
   ]
  },
  {
   "cell_type": "markdown",
   "metadata": {},
   "source": [
    "Naive oversampling of our training data. This one of the mechanisms we will test to see its effect on bias. We simply oversample the minority class (black in this case) so that our classes are more balanced. We are going to resample based on some coefficient RESAMPLE_COEFFICIENT. If this is 1, we simple resample the total amount in the minority class. "
   ]
  },
  {
   "cell_type": "code",
   "execution_count": 73,
   "metadata": {},
   "outputs": [
    {
     "name": "stdout",
     "output_type": "stream",
     "text": [
      "2499 26048\n"
     ]
    }
   ],
   "source": [
    "from keras.utils import to_categorical, plot_model\n",
    "\n",
    "minority = train[train['race']== 0]\n",
    "print(len(minority), len(train))\n",
    "RESAMPLE_COEFFICIENT = 1.5\n",
    "oversample = minority.sample(int(RESAMPLE_COEFFICIENT * len(minority)), replace = True, random_state = 1)\n",
    "train_o = pd.concat([train, oversample], axis = 0)\n",
    "##Perform similar X, Y split on train_o, the oversampled training data\n",
    "Y_o_race = train_o['race']\n",
    "Y_o = train_o['income']\n",
    "X_o = train_o.drop(['income', 'fnlwgt', 'native.country', 'race'], axis = 1)"
   ]
  },
  {
   "cell_type": "markdown",
   "metadata": {},
   "source": [
    "Some basic analysis of race groups above and below 50 K (\"rich\" and \"poor\")"
   ]
  },
  {
   "cell_type": "code",
   "execution_count": 74,
   "metadata": {},
   "outputs": [],
   "source": [
    "total = train.groupby('race').size().reset_index()\n",
    "\n",
    "rich = train[train['income'] == 1]\n",
    "rich = rich.groupby('race').size().reset_index()\n",
    "rich[0] = rich[0]/total[0]\n",
    "\n",
    "poor = train[train['income'] == 0]\n",
    "poor = poor.groupby('race').size().reset_index()\n",
    "poor[0] = poor[0]/total[0]"
   ]
  },
  {
   "cell_type": "code",
   "execution_count": 75,
   "metadata": {},
   "outputs": [
    {
     "data": {
      "image/png": "[encoded data removed]",
      "text/plain": [
       "<Figure size 720x216 with 2 Axes>"
      ]
     },
     "metadata": {
      "needs_background": "light"
     },
     "output_type": "display_data"
    }
   ],
   "source": [
    "fig, (ax1, ax2) = plt.subplots(1,2)\n",
    "fig.set_size_inches(10,3)\n",
    "ax1.bar(rich['race'], rich[0])\n",
    "ax2.bar(poor['race'], poor[0])\n",
    "plt.show()"
   ]
  },
  {
   "cell_type": "markdown",
   "metadata": {},
   "source": [
    "We want to see what is the value of $p$ in our training data, because it is likely that such a pattern will reveal itself in the model. In other words, what is the maximum bias that is shown in the data? This is assuming there are no confounding variables between race groups. "
   ]
  },
  {
   "cell_type": "code",
   "execution_count": 76,
   "metadata": {},
   "outputs": [],
   "source": [
    "#Proportion of black people who are rich. Dividing the \"length\" of the DFs of only >50k and the entire data, subsetting for black race\n",
    "blackrich = len(rich[rich['race'] == 0])/len(train[train['race'] == 0])\n",
    "#Same idea for other races\n",
    "nonblackrich = len(rich[rich['race'] == 1])/len(train[train['race'] == 1])"
   ]
  },
  {
   "cell_type": "markdown",
   "metadata": {},
   "source": [
    "More processing things, one-hot encoding categorical variables, making sure that the test and train have the same encodings, by using df.align on column case. Then, converting everything into numpy arrays. "
   ]
  },
  {
   "cell_type": "code",
   "execution_count": 110,
   "metadata": {},
   "outputs": [],
   "source": [
    "\n",
    "from keras import Sequential\n",
    "from sklearn.preprocessing import OneHotEncoder\n",
    "\n",
    "dumdf = pd.get_dummies(X, columns = [\"workclass\", \"education\", \"education.num\", \"marital.status\", \"occupation\", \"relationship\", \"sex\"], drop_first = True)\n",
    "testdf = pd.get_dummies(X_test, columns = [\"workclass\", \"education\", \"education.num\", \"marital.status\", \"occupation\", \"relationship\", \"sex\"], drop_first = True)\n",
    "dumdf_o = pd.get_dummies(X_o, columns = [\"workclass\", \"education\", \"education.num\", \"marital.status\", \"occupation\", \"relationship\", \"sex\"], drop_first =True)\n",
    "dumdf,testdf = dumdf.align(testdf, join='outer', axis=1, fill_value=0)\n"
   ]
  },
  {
   "cell_type": "markdown",
   "metadata": {},
   "source": [
    "### Simple Model\n",
    "\n",
    "Simple neural net using nonlinear mappings and cross entropy loss function."
   ]
  },
  {
   "cell_type": "code",
   "execution_count": 89,
   "metadata": {},
   "outputs": [
    {
     "name": "stdout",
     "output_type": "stream",
     "text": [
      "Train on 20838 samples, validate on 5210 samples\n",
      "Epoch 1/5\n",
      "20838/20838 [==============================] - 2s 98us/sample - loss: 4.5292 - acc: 0.8064 - val_loss: 1.6252 - val_acc: 0.8134\n",
      "Epoch 2/5\n",
      "20838/20838 [==============================] - 1s 69us/sample - loss: 1.0834 - acc: 0.8277 - val_loss: 1.3371 - val_acc: 0.8395\n",
      "Epoch 3/5\n",
      "20838/20838 [==============================] - 1s 69us/sample - loss: 1.1030 - acc: 0.8307 - val_loss: 0.9601 - val_acc: 0.8503\n",
      "Epoch 4/5\n",
      "20838/20838 [==============================] - 2s 74us/sample - loss: 1.1062 - acc: 0.8321 - val_loss: 1.0272 - val_acc: 0.8536\n",
      "Epoch 5/5\n",
      "20838/20838 [==============================] - 1s 64us/sample - loss: 1.0834 - acc: 0.8276 - val_loss: 4.0567 - val_acc: 0.8144\n"
     ]
    }
   ],
   "source": [
    "\n",
    "M1 = Input(shape=(nfeatures,),name='M1')\n",
    "M2 = Dense(400, activation='relu',name='M2')(M1)\n",
    "M3 = Dense(1, activation='sigmoid',name='M3')(M2)\n",
    "\n",
    "\n",
    "model = Model(inputs = [M1], outputs = [M3])\n",
    "model.compile(optimizer = opt, loss = \"binary_crossentropy\", metrics = ['accuracy'])\n",
    "history = model.fit(dumdf,Y, batch_size = 32, epochs = 5, validation_split = 0.2, shuffle = True)\n"
   ]
  },
  {
   "cell_type": "markdown",
   "metadata": {},
   "source": [
    "### Combined Loss Function"
   ]
  },
  {
   "cell_type": "markdown",
   "metadata": {},
   "source": [
    "Begin ML pipeline. Setting up a basic neural network structure (which can be tinkered with later). \n",
    "\n",
    "The idea is we are trying to predict M3 (average income), but at the same time we want to discriminate against predicting C2 (race). \n",
    "\n",
    "So the rough structure looks like: M1 -> M2 -> M3 (income) -> C2 -> C3 (race)\n"
   ]
  },
  {
   "cell_type": "code",
   "execution_count": 49,
   "metadata": {},
   "outputs": [],
   "source": [
    "import tensorflow as tf\n",
    "from tensorflow import keras\n",
    "from tensorflow.keras import layers\n",
    "from tensorflow.keras import models\n",
    "from tensorflow.keras.layers import Dense, Dropout\n",
    "from tensorflow.keras import Input, Model\n",
    "M1 = Input(shape=(nfeatures,),name='M1')\n",
    "M2 = Dense(400, activation='relu',name='M2')(M1)\n",
    "M3 = Dense(1, activation='sigmoid',name='M3')(M2)\n",
    "C2 = Dense(40, activation='relu',name='C2')(M3)\n",
    "C3 = Dense(1, activation='sigmoid',name='C3')(C2)"
   ]
  },
  {
   "cell_type": "markdown",
   "metadata": {},
   "source": [
    "First model with adjusted loss function. Define some value $\\alpha$ that represents the \"discriminator\" network, that punishes the loss function when the loss for C3 is smaller. $\\alpha$ is an important hyperparamater to choose, though, since a large $\\alpha$ may drive the network away from any good convergence, while a small $\\alpha$ does little to nothing (obviously)."
   ]
  },
  {
   "cell_type": "code",
   "execution_count": 50,
   "metadata": {},
   "outputs": [
    {
     "name": "stdout",
     "output_type": "stream",
     "text": [
      "Train on 20838 samples, validate on 5210 samples\n",
      "Epoch 1/5\n",
      "20838/20838 [==============================] - 3s 129us/sample - loss: 2.3179 - M3_loss: 2.3891 - C3_loss: 0.7397 - M3_acc: 0.8038 - C3_acc: 0.0956 - val_loss: 0.7214 - val_M3_loss: 0.8099 - val_C3_loss: 0.8863 - val_M3_acc: 0.8253 - val_C3_acc: 0.0973\n",
      "Epoch 2/5\n",
      "20838/20838 [==============================] - 2s 84us/sample - loss: 1.3324 - M3_loss: 1.4208 - C3_loss: 0.8987 - M3_acc: 0.8215 - C3_acc: 0.0956 - val_loss: 0.8695 - val_M3_loss: 0.9587 - val_C3_loss: 0.8996 - val_M3_acc: 0.8403 - val_C3_acc: 0.0973\n",
      "Epoch 3/5\n",
      "20838/20838 [==============================] - 2s 83us/sample - loss: 0.9849 - M3_loss: 1.0740 - C3_loss: 0.9024 - M3_acc: 0.8262 - C3_acc: 0.0956 - val_loss: 0.7159 - val_M3_loss: 0.8054 - val_C3_loss: 0.9014 - val_M3_acc: 0.8405 - val_C3_acc: 0.0973\n",
      "Epoch 4/5\n",
      "20838/20838 [==============================] - 2s 78us/sample - loss: 1.2478 - M3_loss: 1.3368 - C3_loss: 0.9038 - M3_acc: 0.8238 - C3_acc: 0.0956 - val_loss: 1.4428 - val_M3_loss: 1.5318 - val_C3_loss: 0.9020 - val_M3_acc: 0.8449 - val_C3_acc: 0.0973\n",
      "Epoch 5/5\n",
      "20838/20838 [==============================] - 2s 80us/sample - loss: 1.0634 - M3_loss: 1.1535 - C3_loss: 0.9041 - M3_acc: 0.8309 - C3_acc: 0.0956 - val_loss: 2.8202 - val_M3_loss: 2.9138 - val_C3_loss: 0.9024 - val_M3_acc: 0.8390 - val_C3_acc: 0.0973\n"
     ]
    }
   ],
   "source": [
    "merged = Model(inputs = [M1], outputs = [M3, C3])\n",
    "loss1 = 'binary_crossentropy'\n",
    "loss2 = 'mse'\n",
    "opt = keras.optimizers.Adam(learning_rate=0.001)\n",
    "alpha = 0.1\n",
    "merged.compile(optimizer = opt,loss=[loss1, loss2],loss_weights=[1, -1 * alpha], metrics=['accuracy'])\n",
    "history = merged.fit(dumdf, [Y,Y_race] ,batch_size=32, epochs=5, validation_split = 0.2, shuffle = True)"
   ]
  },
  {
   "cell_type": "markdown",
   "metadata": {},
   "source": [
    "### Oversampled Model\n",
    "Model with the oversampled training set, same neural network structure as the normal model though."
   ]
  },
  {
   "cell_type": "code",
   "execution_count": 51,
   "metadata": {},
   "outputs": [
    {
     "name": "stdout",
     "output_type": "stream",
     "text": [
      "Train on 23836 samples, validate on 5960 samples\n",
      "Epoch 1/5\n",
      "23836/23836 [==============================] - 2s 87us/sample - loss: 4.3093 - acc: 0.8113 - val_loss: 0.6493 - val_acc: 0.8765\n",
      "Epoch 2/5\n",
      "23836/23836 [==============================] - 2s 77us/sample - loss: 1.3255 - acc: 0.8261 - val_loss: 0.5917 - val_acc: 0.8790\n",
      "Epoch 3/5\n",
      "23836/23836 [==============================] - 2s 67us/sample - loss: 0.8247 - acc: 0.8334 - val_loss: 0.9977 - val_acc: 0.8809\n",
      "Epoch 4/5\n",
      "23836/23836 [==============================] - 2s 66us/sample - loss: 1.2990 - acc: 0.8343 - val_loss: 0.4866 - val_acc: 0.8896\n",
      "Epoch 5/5\n",
      "23836/23836 [==============================] - 2s 67us/sample - loss: 0.6913 - acc: 0.8386 - val_loss: 0.6391 - val_acc: 0.8829\n"
     ]
    }
   ],
   "source": [
    "M1 = Input(shape=(nfeatures,),name='M1')\n",
    "M2 = Dense(400, activation='relu',name='M2')(M1)\n",
    "M3 = Dense(1, activation='sigmoid',name='M3')(M2)\n",
    "\n",
    "\n",
    "Omodel = Model(inputs = [M1], outputs = [M3])\n",
    "Omodel.compile(optimizer = opt, loss = \"binary_crossentropy\", metrics = ['accuracy'])\n",
    "history = Omodel.fit(dumdf_o,Y_o, batch_size = 32, epochs = 5, validation_split = 0.2, shuffle = True)"
   ]
  },
  {
   "cell_type": "markdown",
   "metadata": {},
   "source": [
    "### Oversampling + Combined Loss Function\n",
    "\n",
    "This one is supposed to combine our previous two insights. We expect this model to perform the \"best\" based on our ideas of debiasing. But anything is possible."
   ]
  },
  {
   "cell_type": "code",
   "execution_count": 52,
   "metadata": {},
   "outputs": [
    {
     "name": "stdout",
     "output_type": "stream",
     "text": [
      "Train on 23836 samples, validate on 5960 samples\n",
      "Epoch 1/5\n",
      "23836/23836 [==============================] - 3s 112us/sample - loss: 2.3466 - M3_loss: 2.4166 - C3_loss: 0.7041 - M3_acc: 0.8123 - C3_acc: 0.0980 - val_loss: 0.6492 - val_M3_loss: 0.6803 - val_C3_loss: 0.3312 - val_M3_acc: 0.8767 - val_C3_acc: 0.6628\n",
      "Epoch 2/5\n",
      "23836/23836 [==============================] - 2s 84us/sample - loss: 1.5793 - M3_loss: 1.6689 - C3_loss: 0.8958 - M3_acc: 0.8199 - C3_acc: 0.0964 - val_loss: 3.0030 - val_M3_loss: 3.0276 - val_C3_loss: 0.3372 - val_M3_acc: 0.8628 - val_C3_acc: 0.6628\n",
      "Epoch 3/5\n",
      "23836/23836 [==============================] - 2s 81us/sample - loss: 1.4850 - M3_loss: 1.5751 - C3_loss: 0.9015 - M3_acc: 0.8277 - C3_acc: 0.0964 - val_loss: 1.4299 - val_M3_loss: 1.4579 - val_C3_loss: 0.3360 - val_M3_acc: 0.8542 - val_C3_acc: 0.6628\n",
      "Epoch 4/5\n",
      "23836/23836 [==============================] - 2s 80us/sample - loss: 2.0075 - M3_loss: 2.0975 - C3_loss: 0.9027 - M3_acc: 0.8218 - C3_acc: 0.0964 - val_loss: 1.5640 - val_M3_loss: 1.5931 - val_C3_loss: 0.3382 - val_M3_acc: 0.8384 - val_C3_acc: 0.6628\n",
      "Epoch 5/5\n",
      "23836/23836 [==============================] - 2s 80us/sample - loss: 0.9192 - M3_loss: 1.0095 - C3_loss: 0.9031 - M3_acc: 0.8336 - C3_acc: 0.0964 - val_loss: 0.8918 - val_M3_loss: 0.9227 - val_C3_loss: 0.3368 - val_M3_acc: 0.8847 - val_C3_acc: 0.6628\n"
     ]
    }
   ],
   "source": [
    "M1 = Input(shape=(nfeatures,),name='M1')\n",
    "M2 = Dense(400, activation='relu',name='M2')(M1)\n",
    "M3 = Dense(1, activation='sigmoid',name='M3')(M2)\n",
    "C2 = Dense(40, activation='relu',name='C2')(M3)\n",
    "C3 = Dense(1, activation='sigmoid',name='C3')(C2)\n",
    "\n",
    "Omerged = Model(inputs = [M1], outputs = [M3, C3])\n",
    "loss1 = 'binary_crossentropy'\n",
    "loss2 = 'mse'\n",
    "opt = keras.optimizers.Adam(learning_rate=0.001)\n",
    "alpha = 0.1\n",
    "Omerged.compile(optimizer = opt,loss=[loss1, loss2],loss_weights=[1, -1 * alpha], metrics=['accuracy'])\n",
    "history = Omerged.fit(dumdf_o, [Y_o,Y_o_race] ,batch_size=32, epochs=5, validation_split = 0.2, shuffle = True)"
   ]
  },
  {
   "cell_type": "code",
   "execution_count": 53,
   "metadata": {},
   "outputs": [],
   "source": [
    "## Testing the models on test set\n",
    "scores_merged = merged.evaluate(testdf, [Y_test, Y_test_race], batch_size=16, verbose = 0)\n",
    "scores = model.evaluate(testdf, Y_test, batch_size = 16, verbose = 0)\n",
    "scores_o = Omodel.evaluate(testdf, Y_test, batch_size = 16, verbose = 0)\n",
    "scores_merged_o = Omerged.evaluate(testdf, [Y_test, Y_test_race], batch_size=16, verbose = 0)"
   ]
  },
  {
   "cell_type": "code",
   "execution_count": 54,
   "metadata": {},
   "outputs": [
    {
     "name": "stdout",
     "output_type": "stream",
     "text": [
      "Combined Loss Function Model: \n",
      "Loss: 2.4284602823518084\n",
      "Accuracy: 0.8298787\n",
      "Simple Model: \n",
      "Loss: 0.8953211289679933\n",
      "Accuracy: 0.83724856\n",
      "Oversampled Model: \n",
      "Loss: 0.6931385774958725\n",
      "Accuracy: 0.84077996\n",
      "Oversampling + Combined Loss Function Model: \n",
      "Loss: 0.9124806871726072\n",
      "Accuracy: 0.8389375\n"
     ]
    }
   ],
   "source": [
    "print(\"Combined Loss Function Model: \\nLoss: \" + str(scores_merged[0]) + \"\\nAccuracy: \" + str(scores_merged[3]))\n",
    "\n",
    "print(\"Simple Model: \\nLoss: \" + str(scores[0]) + \"\\nAccuracy: \" + str(scores[1]))\n",
    "\n",
    "print(\"Oversampled Model: \\nLoss: \" + str(scores_o[0]) + \"\\nAccuracy: \" + str(scores_o[1]))\n",
    "\n",
    "print(\"Oversampling + Combined Loss Function Model: \\nLoss: \" + str(scores_merged_o[0]) + \"\\nAccuracy: \" + str(scores_merged_o[3]))"
   ]
  },
  {
   "cell_type": "code",
   "execution_count": 60,
   "metadata": {},
   "outputs": [],
   "source": [
    "accuracy_vector = [scores[1], scores_merged[3], scores_o[1], scores_merged_o[3]]"
   ]
  },
  {
   "cell_type": "code",
   "execution_count": 66,
   "metadata": {},
   "outputs": [
    {
     "data": {
      "text/plain": [
       "Text(0.5, 1.0, 'Accuracy in predicting income based on learning scheme')"
      ]
     },
     "execution_count": 66,
     "metadata": {},
     "output_type": "execute_result"
    },
    {
     "data": {
      "image/png": "[encoded data removed]",
      "text/plain": [
       "<Figure size 432x288 with 1 Axes>"
      ]
     },
     "metadata": {
      "needs_background": "light"
     },
     "output_type": "display_data"
    }
   ],
   "source": [
    "plt.bar(['Simple', 'Combined Loss', 'Oversampling', 'OS + CL'], accuracy_vector)\n",
    "plt.ylim(0.8, 0.9)\n",
    "plt.title(\"Accuracy in predicting income based on learning scheme\")"
   ]
  },
  {
   "cell_type": "markdown",
   "metadata": {},
   "source": [
    "So this is interesting. The simple model does better than the combined one, but worse than the oversampling one in terms of pure accuracy. But that's not all that matters. We ought to see which does better in diagnosing bias. To do this, we can try computing the conditional probability $P(\\geq50K | black)$ on the predictions of the models."
   ]
  },
  {
   "cell_type": "code",
   "execution_count": 116,
   "metadata": {},
   "outputs": [
    {
     "data": {
      "text/plain": [
       "0.0832"
      ]
     },
     "execution_count": 116,
     "metadata": {},
     "output_type": "execute_result"
    }
   ],
   "source": [
    "def categorical_tsfm(l):\n",
    "    # assert 0 < l[i] < 1\n",
    "    return [1 if x > 0.5 else 0 for x in l]\n",
    "\n",
    "# gets all indexes of a list that hit the match\n",
    "def get_indexes(l, match):\n",
    "    return [i for i,x in enumerate(l) if x == match]\n",
    "\n",
    "black_index = get_indexes(Y_test_race, 0)\n",
    "num_black = len(Y_test_race[Y_test_race ==0])\n",
    "\n",
    "#Simple Model\n",
    "result = model.predict(testdf)\n",
    "result = categorical_tsfm(result)\n",
    "result_index = get_indexes(result, 1)\n",
    "shared = list(set(black_index) & set(result_index))\n",
    "P_simple = len(shared)/num_black\n",
    "\n",
    "#Combined Model\n",
    "result = list(merged.predict(testdf)[0])\n",
    "result = categorical_tsfm(result)\n",
    "result_index = get_indexes(result, 1)\n",
    "shared= list(set(black_index) & set(result_index))\n",
    "P_merged = len(shared)/num_black\n",
    "\n",
    "#Oversampled Model\n",
    "result = Omodel.predict(testdf)\n",
    "result = categorical_tsfm(result)\n",
    "result_index = get_indexes(result, 1)\n",
    "shared = list(set(black_index) & set(result_index))\n",
    "P_over = len(shared)/num_black\n",
    "\n",
    "#Oversample + combined Model\n",
    "result = list(Omerged.predict(testdf)[0])\n",
    "result = categorical_tsfm(result)\n",
    "result_index = get_indexes(result, 1)\n",
    "shared = list(set(black_index) & set(result_index))\n",
    "P_over_merged = len(shared)/num_black\n"
   ]
  },
  {
   "cell_type": "code",
   "execution_count": 117,
   "metadata": {},
   "outputs": [
    {
     "data": {
      "text/plain": [
       "<BarContainer object of 4 artists>"
      ]
     },
     "execution_count": 117,
     "metadata": {},
     "output_type": "execute_result"
    },
    {
     "data": {
      "image/png": "[encoded data removed]",
      "text/plain": [
       "<Figure size 432x288 with 1 Axes>"
      ]
     },
     "metadata": {
      "needs_background": "light"
     },
     "output_type": "display_data"
    }
   ],
   "source": [
    "plt.bar(['Simple', 'Combined Loss', 'Oversampling', 'OS + CL'], [P_simple, P_merged, P_over, P_over_merged])"
   ]
  },
  {
   "cell_type": "code",
   "execution_count": null,
   "metadata": {},
   "outputs": [],
   "source": []
  }
 ],
 "metadata": {
  "kernelspec": {
   "display_name": "Python 3",
   "language": "python",
   "name": "python3"
  },
  "language_info": {
   "codemirror_mode": {
    "name": "ipython",
    "version": 3
   },
   "file_extension": ".py",
   "mimetype": "text/x-python",
   "name": "python",
   "nbconvert_exporter": "python",
   "pygments_lexer": "ipython3",
   "version": "3.6.10"
  }
 },
 "nbformat": 4,
 "nbformat_minor": 4
}
